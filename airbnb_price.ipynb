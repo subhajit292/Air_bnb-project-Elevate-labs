{
 "cells": [
  {
   "cell_type": "code",
   "execution_count": 1,
   "id": "33a515e7-6677-4a17-9fc5-bb0efaa5c74b",
   "metadata": {},
   "outputs": [
    {
     "name": "stdout",
     "output_type": "stream",
     "text": [
      "RMSE: 98.23040976384692\n",
      "R² Score: 0.48485074622102986\n"
     ]
    }
   ],
   "source": [
    "import pandas as pd\n",
    "from sklearn.model_selection import train_test_split\n",
    "from sklearn.preprocessing import OneHotEncoder\n",
    "from sklearn.compose import ColumnTransformer\n",
    "from sklearn.pipeline import Pipeline\n",
    "from sklearn.linear_model import LinearRegression\n",
    "from sklearn.metrics import mean_squared_error, r2_score\n",
    "import numpy as np\n",
    "\n",
    "# Load dataset\n",
    "file_path = \"Airbnb_Data.xlsx\"  # Update with your file path\n",
    "df = pd.read_excel(file_path)\n",
    "\n",
    "# Clean column names\n",
    "df.columns = [col.strip().replace(\" \", \"_\") for col in df.columns]\n",
    "\n",
    "# Select features and target\n",
    "target = 'Actual_Price'\n",
    "features = ['property_type', 'room_type', 'accommodates', 'bathrooms',\n",
    "            'bed_type', 'cleaning_fee', 'city', 'number_of_reviews',\n",
    "            'review_scores_rating', 'bedrooms', 'beds']\n",
    "\n",
    "# Drop rows with missing values for selected columns\n",
    "df = df[features + [target]].dropna()\n",
    "\n",
    "X = df[features]\n",
    "y = df[target]\n",
    "\n",
    "# Categorical & numerical columns\n",
    "cat_cols = ['property_type', 'room_type', 'bed_type', 'city']\n",
    "num_cols = ['accommodates', 'bathrooms', 'cleaning_fee',\n",
    "            'number_of_reviews', 'review_scores_rating', 'bedrooms', 'beds']\n",
    "\n",
    "# Preprocessor: OneHotEncode categorical variables\n",
    "preprocessor = ColumnTransformer(\n",
    "    transformers=[\n",
    "        ('cat', OneHotEncoder(handle_unknown='ignore'), cat_cols)\n",
    "    ],\n",
    "    remainder='passthrough'\n",
    ")\n",
    "\n",
    "# Create pipeline\n",
    "model = Pipeline(steps=[\n",
    "    ('preprocessor', preprocessor),\n",
    "    ('regressor', LinearRegression())\n",
    "])\n",
    "\n",
    "# Train-test split\n",
    "X_train, X_test, y_train, y_test = train_test_split(X, y, test_size=0.2, random_state=42)\n",
    "\n",
    "# Fit the model\n",
    "model.fit(X_train, y_train)\n",
    "\n",
    "# Predict\n",
    "y_pred = model.predict(X_test)\n",
    "\n",
    "# Evaluate\n",
    "rmse = np.sqrt(mean_squared_error(y_test, y_pred))\n",
    "r2 = r2_score(y_test, y_pred)\n",
    "\n",
    "print(f\"RMSE: {rmse}\")\n",
    "print(f\"R² Score: {r2}\")\n"
   ]
  },
  {
   "cell_type": "code",
   "execution_count": null,
   "id": "ffde9b72-e727-4658-a9d9-fef4ed205aa0",
   "metadata": {},
   "outputs": [],
   "source": []
  }
 ],
 "metadata": {
  "kernelspec": {
   "display_name": "Python 3 (ipykernel)",
   "language": "python",
   "name": "python3"
  },
  "language_info": {
   "codemirror_mode": {
    "name": "ipython",
    "version": 3
   },
   "file_extension": ".py",
   "mimetype": "text/x-python",
   "name": "python",
   "nbconvert_exporter": "python",
   "pygments_lexer": "ipython3",
   "version": "3.12.7"
  }
 },
 "nbformat": 4,
 "nbformat_minor": 5
}
